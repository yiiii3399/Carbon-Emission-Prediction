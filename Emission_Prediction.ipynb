{
  "nbformat": 4,
  "nbformat_minor": 0,
  "metadata": {
    "colab": {
      "provenance": []
    },
    "kernelspec": {
      "name": "python3",
      "display_name": "Python 3"
    },
    "language_info": {
      "name": "python"
    }
  },
  "cells": [
    {
      "cell_type": "code",
      "execution_count": null,
      "metadata": {
        "id": "YtUYkBOOuz-2",
        "outputId": "b500b403-d8a7-4e9e-89ca-8c002e4b128d",
        "colab": {
          "base_uri": "https://localhost:8080/",
          "height": 356
        }
      },
      "outputs": [
        {
          "output_type": "error",
          "ename": "ModuleNotFoundError",
          "evalue": "ignored",
          "traceback": [
            "\u001b[0;31m---------------------------------------------------------------------------\u001b[0m",
            "\u001b[0;31mModuleNotFoundError\u001b[0m                       Traceback (most recent call last)",
            "\u001b[0;32m<ipython-input-1-0e433c9d95e0>\u001b[0m in \u001b[0;36m<module>\u001b[0;34m\u001b[0m\n\u001b[1;32m     11\u001b[0m \u001b[0;32mfrom\u001b[0m \u001b[0msklearn\u001b[0m\u001b[0;34m.\u001b[0m\u001b[0mmetrics\u001b[0m \u001b[0;32mimport\u001b[0m \u001b[0mr2_score\u001b[0m\u001b[0;34m\u001b[0m\u001b[0;34m\u001b[0m\u001b[0m\n\u001b[1;32m     12\u001b[0m \u001b[0;32mfrom\u001b[0m \u001b[0msklearn\u001b[0m\u001b[0;34m.\u001b[0m\u001b[0mpreprocessing\u001b[0m \u001b[0;32mimport\u001b[0m \u001b[0mStandardScaler\u001b[0m\u001b[0;34m\u001b[0m\u001b[0;34m\u001b[0m\u001b[0m\n\u001b[0;32m---> 13\u001b[0;31m \u001b[0;32mfrom\u001b[0m \u001b[0mtransformers\u001b[0m \u001b[0;32mimport\u001b[0m \u001b[0mDistilBertTokenizerFast\u001b[0m\u001b[0;34m,\u001b[0m \u001b[0mTFDistilBertModel\u001b[0m\u001b[0;34m\u001b[0m\u001b[0;34m\u001b[0m\u001b[0m\n\u001b[0m\u001b[1;32m     14\u001b[0m \u001b[0;32mimport\u001b[0m \u001b[0mtensorflow\u001b[0m \u001b[0;32mas\u001b[0m \u001b[0mtf\u001b[0m\u001b[0;34m\u001b[0m\u001b[0;34m\u001b[0m\u001b[0m\n\u001b[1;32m     15\u001b[0m \u001b[0;32mfrom\u001b[0m \u001b[0mtensorflow\u001b[0m\u001b[0;34m.\u001b[0m\u001b[0mkeras\u001b[0m\u001b[0;34m.\u001b[0m\u001b[0mmodels\u001b[0m \u001b[0;32mimport\u001b[0m \u001b[0mModel\u001b[0m\u001b[0;34m\u001b[0m\u001b[0;34m\u001b[0m\u001b[0m\n",
            "\u001b[0;31mModuleNotFoundError\u001b[0m: No module named 'transformers'",
            "",
            "\u001b[0;31m---------------------------------------------------------------------------\u001b[0;32m\nNOTE: If your import is failing due to a missing package, you can\nmanually install dependencies using either !pip or !apt.\n\nTo view examples of installing some common dependencies, click the\n\"Open Examples\" button below.\n\u001b[0;31m---------------------------------------------------------------------------\u001b[0m\n"
          ],
          "errorDetails": {
            "actions": [
              {
                "action": "open_url",
                "actionText": "Open Examples",
                "url": "/notebooks/snippets/importing_libraries.ipynb"
              }
            ]
          }
        }
      ],
      "source": [
        "import pandas as pd\n",
        "import numpy as np\n",
        "from sklearn.model_selection import train_test_split\n",
        "from sklearn.preprocessing import StandardScaler, OneHotEncoder\n",
        "from sklearn.compose import ColumnTransformer\n",
        "from tensorflow.keras.models import Sequential\n",
        "from tensorflow.keras.layers import Dense\n",
        "from tensorflow.keras.layers import Dense, LSTM, Embedding\n",
        "from tensorflow.keras.preprocessing.text import Tokenizer\n",
        "from tensorflow.keras.preprocessing.sequence import pad_sequences\n",
        "from sklearn.metrics import r2_score\n",
        "from sklearn.preprocessing import StandardScaler\n",
        "from transformers import DistilBertTokenizerFast, TFDistilBertModel\n",
        "import tensorflow as tf\n",
        "from tensorflow.keras.models import Model\n",
        "from tensorflow.keras.layers import Dense, Concatenate, Input"
      ]
    },
    {
      "cell_type": "code",
      "source": [
        "data = pd.read_excel(\"sales_filled_2.xlsx\")\n",
        "data.head(3)"
      ],
      "metadata": {
        "colab": {
          "base_uri": "https://localhost:8080/",
          "height": 364
        },
        "id": "axJ9jVv-vOJC",
        "outputId": "e5ce7c7d-3b71-436b-f5c5-8c318043bbe1"
      },
      "execution_count": null,
      "outputs": [
        {
          "output_type": "execute_result",
          "data": {
            "text/plain": [
              "   col_0  entity_employees sector_naf_level_2       city  emissions_total  \\\n",
              "0      2               600              6920Z  la creche      1341.410000   \n",
              "1     82               829              8720A      ussel     34542.857140   \n",
              "2    138               505              1101Z    creteil      9745.833333   \n",
              "\n",
              "   emissions_scope1  emissions_scope2  emissions_scope3_reported  \\\n",
              "0            699.84              99.5                     542.07   \n",
              "1           1927.00             491.0                       0.00   \n",
              "2           2054.00             285.0                       0.00   \n",
              "\n",
              "   emissions_scope3  emissions_post_1  ...  emissions_post_23  \\\n",
              "0        542.070000             301.0  ...                0.0   \n",
              "1      32124.857140            1168.0  ...                0.0   \n",
              "2       7406.833333             765.0  ...                0.0   \n",
              "\n",
              "                                         Description  Niveau_1  latitude  \\\n",
              "0                              Accounting activities         M    46.366   \n",
              "1  Social housing for mentally disabled and menta...         Q    45.548   \n",
              "2        Production of distilled alcoholic beverages         C    48.784   \n",
              "\n",
              "   longitude          nom_region           id  population           GDP  \\\n",
              "0     -0.309  Nouvelle-Aquitaine  46.4 : -0.3      9074.0  1.827790e+14   \n",
              "1      2.309  Nouvelle-Aquitaine   45.5 : 2.3      9555.0  1.924680e+14   \n",
              "2      2.455       Île-de-France   48.8 : 2.5    468886.0  9.444870e+15   \n",
              "\n",
              "   entity_sales  \n",
              "0    116.894092  \n",
              "1    159.755285  \n",
              "2    100.997697  \n",
              "\n",
              "[3 rows x 41 columns]"
            ],
            "text/html": [
              "\n",
              "  <div id=\"df-fa8ec5d1-da9b-43fb-bc01-70309d1bcae9\">\n",
              "    <div class=\"colab-df-container\">\n",
              "      <div>\n",
              "<style scoped>\n",
              "    .dataframe tbody tr th:only-of-type {\n",
              "        vertical-align: middle;\n",
              "    }\n",
              "\n",
              "    .dataframe tbody tr th {\n",
              "        vertical-align: top;\n",
              "    }\n",
              "\n",
              "    .dataframe thead th {\n",
              "        text-align: right;\n",
              "    }\n",
              "</style>\n",
              "<table border=\"1\" class=\"dataframe\">\n",
              "  <thead>\n",
              "    <tr style=\"text-align: right;\">\n",
              "      <th></th>\n",
              "      <th>col_0</th>\n",
              "      <th>entity_employees</th>\n",
              "      <th>sector_naf_level_2</th>\n",
              "      <th>city</th>\n",
              "      <th>emissions_total</th>\n",
              "      <th>emissions_scope1</th>\n",
              "      <th>emissions_scope2</th>\n",
              "      <th>emissions_scope3_reported</th>\n",
              "      <th>emissions_scope3</th>\n",
              "      <th>emissions_post_1</th>\n",
              "      <th>...</th>\n",
              "      <th>emissions_post_23</th>\n",
              "      <th>Description</th>\n",
              "      <th>Niveau_1</th>\n",
              "      <th>latitude</th>\n",
              "      <th>longitude</th>\n",
              "      <th>nom_region</th>\n",
              "      <th>id</th>\n",
              "      <th>population</th>\n",
              "      <th>GDP</th>\n",
              "      <th>entity_sales</th>\n",
              "    </tr>\n",
              "  </thead>\n",
              "  <tbody>\n",
              "    <tr>\n",
              "      <th>0</th>\n",
              "      <td>2</td>\n",
              "      <td>600</td>\n",
              "      <td>6920Z</td>\n",
              "      <td>la creche</td>\n",
              "      <td>1341.410000</td>\n",
              "      <td>699.84</td>\n",
              "      <td>99.5</td>\n",
              "      <td>542.07</td>\n",
              "      <td>542.070000</td>\n",
              "      <td>301.0</td>\n",
              "      <td>...</td>\n",
              "      <td>0.0</td>\n",
              "      <td>Accounting activities</td>\n",
              "      <td>M</td>\n",
              "      <td>46.366</td>\n",
              "      <td>-0.309</td>\n",
              "      <td>Nouvelle-Aquitaine</td>\n",
              "      <td>46.4 : -0.3</td>\n",
              "      <td>9074.0</td>\n",
              "      <td>1.827790e+14</td>\n",
              "      <td>116.894092</td>\n",
              "    </tr>\n",
              "    <tr>\n",
              "      <th>1</th>\n",
              "      <td>82</td>\n",
              "      <td>829</td>\n",
              "      <td>8720A</td>\n",
              "      <td>ussel</td>\n",
              "      <td>34542.857140</td>\n",
              "      <td>1927.00</td>\n",
              "      <td>491.0</td>\n",
              "      <td>0.00</td>\n",
              "      <td>32124.857140</td>\n",
              "      <td>1168.0</td>\n",
              "      <td>...</td>\n",
              "      <td>0.0</td>\n",
              "      <td>Social housing for mentally disabled and menta...</td>\n",
              "      <td>Q</td>\n",
              "      <td>45.548</td>\n",
              "      <td>2.309</td>\n",
              "      <td>Nouvelle-Aquitaine</td>\n",
              "      <td>45.5 : 2.3</td>\n",
              "      <td>9555.0</td>\n",
              "      <td>1.924680e+14</td>\n",
              "      <td>159.755285</td>\n",
              "    </tr>\n",
              "    <tr>\n",
              "      <th>2</th>\n",
              "      <td>138</td>\n",
              "      <td>505</td>\n",
              "      <td>1101Z</td>\n",
              "      <td>creteil</td>\n",
              "      <td>9745.833333</td>\n",
              "      <td>2054.00</td>\n",
              "      <td>285.0</td>\n",
              "      <td>0.00</td>\n",
              "      <td>7406.833333</td>\n",
              "      <td>765.0</td>\n",
              "      <td>...</td>\n",
              "      <td>0.0</td>\n",
              "      <td>Production of distilled alcoholic beverages</td>\n",
              "      <td>C</td>\n",
              "      <td>48.784</td>\n",
              "      <td>2.455</td>\n",
              "      <td>Île-de-France</td>\n",
              "      <td>48.8 : 2.5</td>\n",
              "      <td>468886.0</td>\n",
              "      <td>9.444870e+15</td>\n",
              "      <td>100.997697</td>\n",
              "    </tr>\n",
              "  </tbody>\n",
              "</table>\n",
              "<p>3 rows × 41 columns</p>\n",
              "</div>\n",
              "      <button class=\"colab-df-convert\" onclick=\"convertToInteractive('df-fa8ec5d1-da9b-43fb-bc01-70309d1bcae9')\"\n",
              "              title=\"Convert this dataframe to an interactive table.\"\n",
              "              style=\"display:none;\">\n",
              "        \n",
              "  <svg xmlns=\"http://www.w3.org/2000/svg\" height=\"24px\"viewBox=\"0 0 24 24\"\n",
              "       width=\"24px\">\n",
              "    <path d=\"M0 0h24v24H0V0z\" fill=\"none\"/>\n",
              "    <path d=\"M18.56 5.44l.94 2.06.94-2.06 2.06-.94-2.06-.94-.94-2.06-.94 2.06-2.06.94zm-11 1L8.5 8.5l.94-2.06 2.06-.94-2.06-.94L8.5 2.5l-.94 2.06-2.06.94zm10 10l.94 2.06.94-2.06 2.06-.94-2.06-.94-.94-2.06-.94 2.06-2.06.94z\"/><path d=\"M17.41 7.96l-1.37-1.37c-.4-.4-.92-.59-1.43-.59-.52 0-1.04.2-1.43.59L10.3 9.45l-7.72 7.72c-.78.78-.78 2.05 0 2.83L4 21.41c.39.39.9.59 1.41.59.51 0 1.02-.2 1.41-.59l7.78-7.78 2.81-2.81c.8-.78.8-2.07 0-2.86zM5.41 20L4 18.59l7.72-7.72 1.47 1.35L5.41 20z\"/>\n",
              "  </svg>\n",
              "      </button>\n",
              "      \n",
              "  <style>\n",
              "    .colab-df-container {\n",
              "      display:flex;\n",
              "      flex-wrap:wrap;\n",
              "      gap: 12px;\n",
              "    }\n",
              "\n",
              "    .colab-df-convert {\n",
              "      background-color: #E8F0FE;\n",
              "      border: none;\n",
              "      border-radius: 50%;\n",
              "      cursor: pointer;\n",
              "      display: none;\n",
              "      fill: #1967D2;\n",
              "      height: 32px;\n",
              "      padding: 0 0 0 0;\n",
              "      width: 32px;\n",
              "    }\n",
              "\n",
              "    .colab-df-convert:hover {\n",
              "      background-color: #E2EBFA;\n",
              "      box-shadow: 0px 1px 2px rgba(60, 64, 67, 0.3), 0px 1px 3px 1px rgba(60, 64, 67, 0.15);\n",
              "      fill: #174EA6;\n",
              "    }\n",
              "\n",
              "    [theme=dark] .colab-df-convert {\n",
              "      background-color: #3B4455;\n",
              "      fill: #D2E3FC;\n",
              "    }\n",
              "\n",
              "    [theme=dark] .colab-df-convert:hover {\n",
              "      background-color: #434B5C;\n",
              "      box-shadow: 0px 1px 3px 1px rgba(0, 0, 0, 0.15);\n",
              "      filter: drop-shadow(0px 1px 2px rgba(0, 0, 0, 0.3));\n",
              "      fill: #FFFFFF;\n",
              "    }\n",
              "  </style>\n",
              "\n",
              "      <script>\n",
              "        const buttonEl =\n",
              "          document.querySelector('#df-fa8ec5d1-da9b-43fb-bc01-70309d1bcae9 button.colab-df-convert');\n",
              "        buttonEl.style.display =\n",
              "          google.colab.kernel.accessAllowed ? 'block' : 'none';\n",
              "\n",
              "        async function convertToInteractive(key) {\n",
              "          const element = document.querySelector('#df-fa8ec5d1-da9b-43fb-bc01-70309d1bcae9');\n",
              "          const dataTable =\n",
              "            await google.colab.kernel.invokeFunction('convertToInteractive',\n",
              "                                                     [key], {});\n",
              "          if (!dataTable) return;\n",
              "\n",
              "          const docLinkHtml = 'Like what you see? Visit the ' +\n",
              "            '<a target=\"_blank\" href=https://colab.research.google.com/notebooks/data_table.ipynb>data table notebook</a>'\n",
              "            + ' to learn more about interactive tables.';\n",
              "          element.innerHTML = '';\n",
              "          dataTable['output_type'] = 'display_data';\n",
              "          await google.colab.output.renderOutput(dataTable, element);\n",
              "          const docLink = document.createElement('div');\n",
              "          docLink.innerHTML = docLinkHtml;\n",
              "          element.appendChild(docLink);\n",
              "        }\n",
              "      </script>\n",
              "    </div>\n",
              "  </div>\n",
              "  "
            ]
          },
          "metadata": {},
          "execution_count": 177
        }
      ]
    },
    {
      "cell_type": "code",
      "source": [
        "target_variable = \"emissions_total\"\n",
        "selected_columns = ['entity_employees', 'entity_sales', 'Niveau_1', 'population', 'GDP', 'latitude', 'longitude']\n",
        "X = data[selected_columns]\n",
        "y = data[target_variable]"
      ],
      "metadata": {
        "id": "XYPuf5jlvkpX"
      },
      "execution_count": null,
      "outputs": []
    },
    {
      "cell_type": "code",
      "source": [
        "X_train, X_test, y_train, y_test = train_test_split(X, y, test_size=0.2, random_state=26)"
      ],
      "metadata": {
        "id": "gZFdjnI_xH0g"
      },
      "execution_count": null,
      "outputs": []
    },
    {
      "cell_type": "code",
      "source": [
        "preprocessor = ColumnTransformer(\n",
        "    transformers=[\n",
        "        ('num', StandardScaler(), [\"entity_employees\", \"entity_sales\"]),\n",
        "        ('cat', OneHotEncoder(), [\"Niveau_1\"])\n",
        "    ])\n",
        "\n",
        "X_train_processed = preprocessor.fit_transform(X_train).toarray()\n",
        "X_test_processed = preprocessor.transform(X_test).toarray()\n"
      ],
      "metadata": {
        "id": "XyEy4skYxJm6"
      },
      "execution_count": null,
      "outputs": []
    },
    {
      "cell_type": "code",
      "source": [
        "model = Sequential()\n",
        "model.add(Dense(512, activation='relu', input_shape=(X_train_processed.shape[1],)))\n",
        "model.add(Dense(256, activation='relu'))\n",
        "model.add(Dense(128, activation='relu'))\n",
        "model.add(Dense(64, activation='relu'))\n",
        "model.add(Dense(32, activation='relu'))\n",
        "model.add(Dense(16, activation='relu'))\n",
        "model.add(Dense(8, activation='relu'))\n",
        "model.add(Dense(4, activation='relu'))\n",
        "model.add(Dense(2, activation='relu'))\n",
        "model.add(Dense(1))"
      ],
      "metadata": {
        "id": "0qXTnZFEx1Qu",
        "outputId": "13de95cd-9c65-4080-ce9b-dbb1d35e528e",
        "colab": {
          "base_uri": "https://localhost:8080/",
          "height": 224
        }
      },
      "execution_count": null,
      "outputs": [
        {
          "output_type": "error",
          "ename": "NameError",
          "evalue": "ignored",
          "traceback": [
            "\u001b[0;31m---------------------------------------------------------------------------\u001b[0m",
            "\u001b[0;31mNameError\u001b[0m                                 Traceback (most recent call last)",
            "\u001b[0;32m<ipython-input-2-edb9ea98bd03>\u001b[0m in \u001b[0;36m<module>\u001b[0;34m\u001b[0m\n\u001b[1;32m      1\u001b[0m \u001b[0mmodel\u001b[0m \u001b[0;34m=\u001b[0m \u001b[0mSequential\u001b[0m\u001b[0;34m(\u001b[0m\u001b[0;34m)\u001b[0m\u001b[0;34m\u001b[0m\u001b[0;34m\u001b[0m\u001b[0m\n\u001b[0;32m----> 2\u001b[0;31m \u001b[0mmodel\u001b[0m\u001b[0;34m.\u001b[0m\u001b[0madd\u001b[0m\u001b[0;34m(\u001b[0m\u001b[0mDense\u001b[0m\u001b[0;34m(\u001b[0m\u001b[0;36m512\u001b[0m\u001b[0;34m,\u001b[0m \u001b[0mactivation\u001b[0m\u001b[0;34m=\u001b[0m\u001b[0;34m'relu'\u001b[0m\u001b[0;34m,\u001b[0m \u001b[0minput_shape\u001b[0m\u001b[0;34m=\u001b[0m\u001b[0;34m(\u001b[0m\u001b[0mX_train_processed\u001b[0m\u001b[0;34m.\u001b[0m\u001b[0mshape\u001b[0m\u001b[0;34m[\u001b[0m\u001b[0;36m1\u001b[0m\u001b[0;34m]\u001b[0m\u001b[0;34m,\u001b[0m\u001b[0;34m)\u001b[0m\u001b[0;34m)\u001b[0m\u001b[0;34m)\u001b[0m\u001b[0;34m\u001b[0m\u001b[0;34m\u001b[0m\u001b[0m\n\u001b[0m\u001b[1;32m      3\u001b[0m \u001b[0mmodel\u001b[0m\u001b[0;34m.\u001b[0m\u001b[0madd\u001b[0m\u001b[0;34m(\u001b[0m\u001b[0mDense\u001b[0m\u001b[0;34m(\u001b[0m\u001b[0;36m256\u001b[0m\u001b[0;34m,\u001b[0m \u001b[0mactivation\u001b[0m\u001b[0;34m=\u001b[0m\u001b[0;34m'relu'\u001b[0m\u001b[0;34m)\u001b[0m\u001b[0;34m)\u001b[0m\u001b[0;34m\u001b[0m\u001b[0;34m\u001b[0m\u001b[0m\n\u001b[1;32m      4\u001b[0m \u001b[0mmodel\u001b[0m\u001b[0;34m.\u001b[0m\u001b[0madd\u001b[0m\u001b[0;34m(\u001b[0m\u001b[0mDense\u001b[0m\u001b[0;34m(\u001b[0m\u001b[0;36m128\u001b[0m\u001b[0;34m,\u001b[0m \u001b[0mactivation\u001b[0m\u001b[0;34m=\u001b[0m\u001b[0;34m'relu'\u001b[0m\u001b[0;34m)\u001b[0m\u001b[0;34m)\u001b[0m\u001b[0;34m\u001b[0m\u001b[0;34m\u001b[0m\u001b[0m\n\u001b[1;32m      5\u001b[0m \u001b[0mmodel\u001b[0m\u001b[0;34m.\u001b[0m\u001b[0madd\u001b[0m\u001b[0;34m(\u001b[0m\u001b[0mDense\u001b[0m\u001b[0;34m(\u001b[0m\u001b[0;36m64\u001b[0m\u001b[0;34m,\u001b[0m \u001b[0mactivation\u001b[0m\u001b[0;34m=\u001b[0m\u001b[0;34m'relu'\u001b[0m\u001b[0;34m)\u001b[0m\u001b[0;34m)\u001b[0m\u001b[0;34m\u001b[0m\u001b[0;34m\u001b[0m\u001b[0m\n",
            "\u001b[0;31mNameError\u001b[0m: name 'X_train_processed' is not defined"
          ]
        }
      ]
    },
    {
      "cell_type": "code",
      "source": [
        "model.compile(optimizer='adam', loss='mean_squared_error')"
      ],
      "metadata": {
        "id": "_SQn3jbsx5pq"
      },
      "execution_count": null,
      "outputs": []
    },
    {
      "cell_type": "code",
      "source": [
        "model.fit(X_train_processed, y_train, epochs=100, batch_size=32, validation_split=0.1)"
      ],
      "metadata": {
        "colab": {
          "base_uri": "https://localhost:8080/"
        },
        "id": "9pThV20Px8z3",
        "outputId": "c41475e0-256b-4e22-b0dd-dd6a1295d5d4"
      },
      "execution_count": null,
      "outputs": [
        {
          "output_type": "stream",
          "name": "stdout",
          "text": [
            "Epoch 1/100\n",
            "73/73 [==============================] - 2s 9ms/step - loss: 52348634267648.0000 - val_loss: 1544182956032.0000\n",
            "Epoch 2/100\n",
            "73/73 [==============================] - 0s 6ms/step - loss: 52341394898944.0000 - val_loss: 1527506796544.0000\n",
            "Epoch 3/100\n",
            "73/73 [==============================] - 0s 6ms/step - loss: 52177569579008.0000 - val_loss: 1456840638464.0000\n",
            "Epoch 4/100\n",
            "73/73 [==============================] - 0s 7ms/step - loss: 51987198509056.0000 - val_loss: 1507300474880.0000\n",
            "Epoch 5/100\n",
            "73/73 [==============================] - 0s 6ms/step - loss: 51879690108928.0000 - val_loss: 1623934107648.0000\n",
            "Epoch 6/100\n",
            "73/73 [==============================] - 0s 6ms/step - loss: 51829509455872.0000 - val_loss: 1576982282240.0000\n",
            "Epoch 7/100\n",
            "73/73 [==============================] - 0s 6ms/step - loss: 51786530422784.0000 - val_loss: 1559609475072.0000\n",
            "Epoch 8/100\n",
            "73/73 [==============================] - 0s 7ms/step - loss: 51771720335360.0000 - val_loss: 1574129631232.0000\n",
            "Epoch 9/100\n",
            "73/73 [==============================] - 0s 6ms/step - loss: 51736114888704.0000 - val_loss: 1508290723840.0000\n",
            "Epoch 10/100\n",
            "73/73 [==============================] - 0s 6ms/step - loss: 51781375623168.0000 - val_loss: 1509078466560.0000\n",
            "Epoch 11/100\n",
            "73/73 [==============================] - 0s 7ms/step - loss: 51691625906176.0000 - val_loss: 1548101484544.0000\n",
            "Epoch 12/100\n",
            "73/73 [==============================] - 0s 7ms/step - loss: 51710261198848.0000 - val_loss: 1581559709696.0000\n",
            "Epoch 13/100\n",
            "73/73 [==============================] - 0s 6ms/step - loss: 51700983398400.0000 - val_loss: 1548440961024.0000\n",
            "Epoch 14/100\n",
            "73/73 [==============================] - 0s 6ms/step - loss: 51659380097024.0000 - val_loss: 1598347411456.0000\n",
            "Epoch 15/100\n",
            "73/73 [==============================] - 0s 5ms/step - loss: 51617843904512.0000 - val_loss: 1637566644224.0000\n",
            "Epoch 16/100\n",
            "73/73 [==============================] - 0s 6ms/step - loss: 51630800109568.0000 - val_loss: 1585401167872.0000\n",
            "Epoch 17/100\n",
            "73/73 [==============================] - 0s 6ms/step - loss: 51598411694080.0000 - val_loss: 1558849781760.0000\n",
            "Epoch 18/100\n",
            "73/73 [==============================] - 0s 6ms/step - loss: 51600924082176.0000 - val_loss: 1588181860352.0000\n",
            "Epoch 19/100\n",
            "73/73 [==============================] - 0s 7ms/step - loss: 51626601611264.0000 - val_loss: 1639718715392.0000\n",
            "Epoch 20/100\n",
            "73/73 [==============================] - 1s 9ms/step - loss: 51604065615872.0000 - val_loss: 1693487333376.0000\n",
            "Epoch 21/100\n",
            "73/73 [==============================] - 1s 9ms/step - loss: 51560209973248.0000 - val_loss: 1685356937216.0000\n",
            "Epoch 22/100\n",
            "73/73 [==============================] - 1s 10ms/step - loss: 51587535863808.0000 - val_loss: 1592166318080.0000\n",
            "Epoch 23/100\n",
            "73/73 [==============================] - 1s 9ms/step - loss: 51586604728320.0000 - val_loss: 1540826726400.0000\n",
            "Epoch 24/100\n",
            "73/73 [==============================] - 0s 6ms/step - loss: 51584121700352.0000 - val_loss: 1628624912384.0000\n",
            "Epoch 25/100\n",
            "73/73 [==============================] - 0s 6ms/step - loss: 51546255523840.0000 - val_loss: 1814322479104.0000\n",
            "Epoch 26/100\n",
            "73/73 [==============================] - 0s 6ms/step - loss: 51533769080832.0000 - val_loss: 1817372917760.0000\n",
            "Epoch 27/100\n",
            "73/73 [==============================] - 0s 6ms/step - loss: 51534289174528.0000 - val_loss: 1791762366464.0000\n",
            "Epoch 28/100\n",
            "73/73 [==============================] - 0s 6ms/step - loss: 51516853452800.0000 - val_loss: 1779569393664.0000\n",
            "Epoch 29/100\n",
            "73/73 [==============================] - 0s 6ms/step - loss: 51559849263104.0000 - val_loss: 1710759477248.0000\n",
            "Epoch 30/100\n",
            "73/73 [==============================] - 0s 6ms/step - loss: 51548386230272.0000 - val_loss: 1686916825088.0000\n",
            "Epoch 31/100\n",
            "73/73 [==============================] - 0s 6ms/step - loss: 51542233186304.0000 - val_loss: 1682296012800.0000\n",
            "Epoch 32/100\n",
            "73/73 [==============================] - 0s 6ms/step - loss: 51515410612224.0000 - val_loss: 1666065367040.0000\n",
            "Epoch 33/100\n",
            "73/73 [==============================] - 0s 6ms/step - loss: 51479167631360.0000 - val_loss: 1791655280640.0000\n",
            "Epoch 34/100\n",
            "73/73 [==============================] - 0s 6ms/step - loss: 51466270146560.0000 - val_loss: 1931240013824.0000\n",
            "Epoch 35/100\n",
            "73/73 [==============================] - 0s 6ms/step - loss: 51432006877184.0000 - val_loss: 1854040440832.0000\n",
            "Epoch 36/100\n",
            "73/73 [==============================] - 0s 6ms/step - loss: 51470984544256.0000 - val_loss: 1859167191040.0000\n",
            "Epoch 37/100\n",
            "73/73 [==============================] - 0s 6ms/step - loss: 51446074572800.0000 - val_loss: 1831436943360.0000\n",
            "Epoch 38/100\n",
            "73/73 [==============================] - 0s 6ms/step - loss: 51426986295296.0000 - val_loss: 1887729745920.0000\n",
            "Epoch 39/100\n",
            "73/73 [==============================] - 0s 6ms/step - loss: 51417649774592.0000 - val_loss: 1843619168256.0000\n",
            "Epoch 40/100\n",
            "73/73 [==============================] - 0s 6ms/step - loss: 51429364465664.0000 - val_loss: 1900735889408.0000\n",
            "Epoch 41/100\n",
            "73/73 [==============================] - 0s 6ms/step - loss: 51421009412096.0000 - val_loss: 1971855425536.0000\n",
            "Epoch 42/100\n",
            "73/73 [==============================] - 0s 6ms/step - loss: 51459139829760.0000 - val_loss: 1955693461504.0000\n",
            "Epoch 43/100\n",
            "73/73 [==============================] - 0s 7ms/step - loss: 51423513411584.0000 - val_loss: 1839713222656.0000\n",
            "Epoch 44/100\n",
            "73/73 [==============================] - 0s 6ms/step - loss: 51442559746048.0000 - val_loss: 1786224967680.0000\n",
            "Epoch 45/100\n",
            "73/73 [==============================] - 0s 7ms/step - loss: 51403766628352.0000 - val_loss: 1958729744384.0000\n",
            "Epoch 46/100\n",
            "73/73 [==============================] - 1s 9ms/step - loss: 51422376755200.0000 - val_loss: 1706608033792.0000\n",
            "Epoch 47/100\n",
            "73/73 [==============================] - 1s 9ms/step - loss: 51304906883072.0000 - val_loss: 2122465411072.0000\n",
            "Epoch 48/100\n",
            "73/73 [==============================] - 1s 9ms/step - loss: 51433210642432.0000 - val_loss: 2045334257664.0000\n",
            "Epoch 49/100\n",
            "73/73 [==============================] - 1s 9ms/step - loss: 51434330521600.0000 - val_loss: 2046125539328.0000\n",
            "Epoch 50/100\n",
            "73/73 [==============================] - 0s 6ms/step - loss: 51380110753792.0000 - val_loss: 1818191069184.0000\n",
            "Epoch 51/100\n",
            "73/73 [==============================] - 0s 6ms/step - loss: 51366403768320.0000 - val_loss: 2127155298304.0000\n",
            "Epoch 52/100\n",
            "73/73 [==============================] - 0s 6ms/step - loss: 51311823290368.0000 - val_loss: 2033985781760.0000\n",
            "Epoch 53/100\n",
            "73/73 [==============================] - 0s 6ms/step - loss: 51317334605824.0000 - val_loss: 2006606938112.0000\n",
            "Epoch 54/100\n",
            "73/73 [==============================] - 0s 6ms/step - loss: 51335323975680.0000 - val_loss: 2178730950656.0000\n",
            "Epoch 55/100\n",
            "73/73 [==============================] - 0s 6ms/step - loss: 51348372455424.0000 - val_loss: 1978139017216.0000\n",
            "Epoch 56/100\n",
            "73/73 [==============================] - 0s 6ms/step - loss: 51325370892288.0000 - val_loss: 1872021553152.0000\n",
            "Epoch 57/100\n",
            "73/73 [==============================] - 0s 7ms/step - loss: 51322535542784.0000 - val_loss: 2011357380608.0000\n",
            "Epoch 58/100\n",
            "73/73 [==============================] - 0s 5ms/step - loss: 51335768571904.0000 - val_loss: 1983541936128.0000\n",
            "Epoch 59/100\n",
            "73/73 [==============================] - 0s 6ms/step - loss: 51318320267264.0000 - val_loss: 1945742082048.0000\n",
            "Epoch 60/100\n",
            "73/73 [==============================] - 0s 6ms/step - loss: 51293280272384.0000 - val_loss: 1944670830592.0000\n",
            "Epoch 61/100\n",
            "73/73 [==============================] - 0s 6ms/step - loss: 51273340551168.0000 - val_loss: 2101419573248.0000\n",
            "Epoch 62/100\n",
            "73/73 [==============================] - 0s 6ms/step - loss: 51412738244608.0000 - val_loss: 1971292602368.0000\n",
            "Epoch 63/100\n",
            "73/73 [==============================] - 0s 6ms/step - loss: 51263098060800.0000 - val_loss: 1987887104000.0000\n",
            "Epoch 64/100\n",
            "73/73 [==============================] - 0s 6ms/step - loss: 51317162639360.0000 - val_loss: 2057465626624.0000\n",
            "Epoch 65/100\n",
            "73/73 [==============================] - 0s 6ms/step - loss: 51276083625984.0000 - val_loss: 2120187248640.0000\n",
            "Epoch 66/100\n",
            "73/73 [==============================] - 0s 6ms/step - loss: 51287492132864.0000 - val_loss: 1958483984384.0000\n",
            "Epoch 67/100\n",
            "73/73 [==============================] - 0s 6ms/step - loss: 51370199613440.0000 - val_loss: 1948453699584.0000\n",
            "Epoch 68/100\n",
            "73/73 [==============================] - 0s 7ms/step - loss: 51285994766336.0000 - val_loss: 2086537396224.0000\n",
            "Epoch 69/100\n",
            "73/73 [==============================] - 0s 6ms/step - loss: 51252402585600.0000 - val_loss: 1849964232704.0000\n",
            "Epoch 70/100\n",
            "73/73 [==============================] - 0s 6ms/step - loss: 51211566841856.0000 - val_loss: 2146073575424.0000\n",
            "Epoch 71/100\n",
            "73/73 [==============================] - 0s 6ms/step - loss: 51234992029696.0000 - val_loss: 2229487796224.0000\n",
            "Epoch 72/100\n",
            "73/73 [==============================] - 1s 9ms/step - loss: 51236061577216.0000 - val_loss: 2206560419840.0000\n",
            "Epoch 73/100\n",
            "73/73 [==============================] - 1s 9ms/step - loss: 51296530857984.0000 - val_loss: 2024094171136.0000\n",
            "Epoch 74/100\n",
            "73/73 [==============================] - 1s 9ms/step - loss: 51183209152512.0000 - val_loss: 2043667021824.0000\n",
            "Epoch 75/100\n",
            "73/73 [==============================] - 1s 10ms/step - loss: 51275492229120.0000 - val_loss: 2027003183104.0000\n",
            "Epoch 76/100\n",
            "73/73 [==============================] - 1s 7ms/step - loss: 51196593176576.0000 - val_loss: 2049522270208.0000\n",
            "Epoch 77/100\n",
            "73/73 [==============================] - 0s 6ms/step - loss: 51208324644864.0000 - val_loss: 2019461169152.0000\n",
            "Epoch 78/100\n",
            "73/73 [==============================] - 0s 6ms/step - loss: 51197855662080.0000 - val_loss: 2134664282112.0000\n",
            "Epoch 79/100\n",
            "73/73 [==============================] - 0s 7ms/step - loss: 51231997296640.0000 - val_loss: 2168541675520.0000\n",
            "Epoch 80/100\n",
            "73/73 [==============================] - 0s 6ms/step - loss: 51195691401216.0000 - val_loss: 2149884362752.0000\n",
            "Epoch 81/100\n",
            "73/73 [==============================] - 0s 6ms/step - loss: 51242160095232.0000 - val_loss: 2009812828160.0000\n",
            "Epoch 82/100\n",
            "73/73 [==============================] - 0s 6ms/step - loss: 51186031919104.0000 - val_loss: 1953609154560.0000\n",
            "Epoch 83/100\n",
            "73/73 [==============================] - 0s 6ms/step - loss: 51111998259200.0000 - val_loss: 2349370966016.0000\n",
            "Epoch 84/100\n",
            "73/73 [==============================] - 0s 7ms/step - loss: 51156218806272.0000 - val_loss: 2270791467008.0000\n",
            "Epoch 85/100\n",
            "73/73 [==============================] - 0s 6ms/step - loss: 51131652767744.0000 - val_loss: 2338792931328.0000\n",
            "Epoch 86/100\n",
            "73/73 [==============================] - 0s 7ms/step - loss: 51157728755712.0000 - val_loss: 2194932760576.0000\n",
            "Epoch 87/100\n",
            "73/73 [==============================] - 0s 6ms/step - loss: 51065235963904.0000 - val_loss: 2492166307840.0000\n",
            "Epoch 88/100\n",
            "73/73 [==============================] - 0s 6ms/step - loss: 51100682027008.0000 - val_loss: 2411165384704.0000\n",
            "Epoch 89/100\n",
            "73/73 [==============================] - 0s 5ms/step - loss: 51058185338880.0000 - val_loss: 2456218763264.0000\n",
            "Epoch 90/100\n",
            "73/73 [==============================] - 0s 6ms/step - loss: 51095011328000.0000 - val_loss: 2454915907584.0000\n",
            "Epoch 91/100\n",
            "73/73 [==============================] - 0s 6ms/step - loss: 51043073261568.0000 - val_loss: 2120112144384.0000\n",
            "Epoch 92/100\n",
            "73/73 [==============================] - 0s 6ms/step - loss: 51206202327040.0000 - val_loss: 2768448782336.0000\n",
            "Epoch 93/100\n",
            "73/73 [==============================] - 0s 6ms/step - loss: 51032629444608.0000 - val_loss: 2643603226624.0000\n",
            "Epoch 94/100\n",
            "73/73 [==============================] - 0s 5ms/step - loss: 50970134315008.0000 - val_loss: 2391703027712.0000\n",
            "Epoch 95/100\n",
            "73/73 [==============================] - 0s 6ms/step - loss: 50912680738816.0000 - val_loss: 2305004142592.0000\n",
            "Epoch 96/100\n",
            "73/73 [==============================] - 0s 6ms/step - loss: 50892711657472.0000 - val_loss: 2328356716544.0000\n",
            "Epoch 97/100\n",
            "73/73 [==============================] - 0s 6ms/step - loss: 50896817881088.0000 - val_loss: 2384054976512.0000\n",
            "Epoch 98/100\n",
            "73/73 [==============================] - 1s 9ms/step - loss: 50991286190080.0000 - val_loss: 2400035799040.0000\n",
            "Epoch 99/100\n",
            "73/73 [==============================] - 1s 9ms/step - loss: 50918150111232.0000 - val_loss: 2215453130752.0000\n",
            "Epoch 100/100\n",
            "73/73 [==============================] - 1s 10ms/step - loss: 50907270086656.0000 - val_loss: 2548278755328.0000\n"
          ]
        },
        {
          "output_type": "execute_result",
          "data": {
            "text/plain": [
              "<keras.callbacks.History at 0x7f6f94fab670>"
            ]
          },
          "metadata": {},
          "execution_count": 183
        }
      ]
    },
    {
      "cell_type": "code",
      "source": [
        "mse = model.evaluate(X_test_processed, y_test)\n",
        "print(f\"Mean Squared Error: {mse}\")"
      ],
      "metadata": {
        "colab": {
          "base_uri": "https://localhost:8080/"
        },
        "id": "Suy0KFrfygZo",
        "outputId": "8796a975-8e2f-4ab8-b8b4-e1a736cb8305"
      },
      "execution_count": null,
      "outputs": [
        {
          "output_type": "stream",
          "name": "stdout",
          "text": [
            "21/21 [==============================] - 0s 2ms/step - loss: 3738960396288.0000\n",
            "Mean Squared Error: 3738960396288.0\n"
          ]
        }
      ]
    },
    {
      "cell_type": "code",
      "source": [
        "y_pred = model.predict(X_test_processed)\n",
        "y_pred = np.squeeze(y_pred)"
      ],
      "metadata": {
        "colab": {
          "base_uri": "https://localhost:8080/"
        },
        "id": "bbByL3wH0h_F",
        "outputId": "eaec31bd-b448-49b0-c8c2-d5f8c2faaf9f"
      },
      "execution_count": null,
      "outputs": [
        {
          "output_type": "stream",
          "name": "stdout",
          "text": [
            "21/21 [==============================] - 0s 2ms/step\n"
          ]
        }
      ]
    },
    {
      "cell_type": "code",
      "source": [
        "r2 = r2_score(y_test, y_pred)\n",
        "print(f\"R-squared: {r2}\")"
      ],
      "metadata": {
        "colab": {
          "base_uri": "https://localhost:8080/"
        },
        "id": "U6ZlwqR1yzb3",
        "outputId": "fd34d0b4-2b7c-46a6-d880-2cead44aa5fe"
      },
      "execution_count": null,
      "outputs": [
        {
          "output_type": "stream",
          "name": "stdout",
          "text": [
            "R-squared: 0.2272724265818563\n"
          ]
        }
      ]
    }
  ]
}